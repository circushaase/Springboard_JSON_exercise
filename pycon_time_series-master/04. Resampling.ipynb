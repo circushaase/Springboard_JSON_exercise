{
 "cells": [
  {
   "cell_type": "code",
   "execution_count": 23,
   "metadata": {
    "collapsed": true
   },
   "outputs": [],
   "source": [
    "import pandas as pd\n",
    "import numpy as np"
   ]
  },
  {
   "cell_type": "code",
   "execution_count": 24,
   "metadata": {
    "collapsed": true
   },
   "outputs": [],
   "source": [
    "rng = pd.date_range('1/1/2011', periods = 72, freq = 'H')\n",
    "ts = pd.Series(list(range(len(rng))), index = rng)"
   ]
  },
  {
   "cell_type": "code",
   "execution_count": 25,
   "metadata": {},
   "outputs": [
    {
     "data": {
      "text/plain": [
       "2011-01-01 00:00:00    0\n",
       "2011-01-01 01:00:00    1\n",
       "2011-01-01 02:00:00    2\n",
       "2011-01-01 03:00:00    3\n",
       "2011-01-01 04:00:00    4\n",
       "Freq: H, dtype: int64"
      ]
     },
     "execution_count": 25,
     "metadata": {},
     "output_type": "execute_result"
    }
   ],
   "source": [
    "ts.head()"
   ]
  },
  {
   "cell_type": "code",
   "execution_count": 26,
   "metadata": {
    "collapsed": true
   },
   "outputs": [],
   "source": [
    "converted = ts.asfreq('45Min', method = 'ffill')\n",
    "# try 'ffill', 'bfill', None"
   ]
  },
  {
   "cell_type": "code",
   "execution_count": 27,
   "metadata": {},
   "outputs": [
    {
     "data": {
      "text/plain": [
       "2011-01-01 00:00:00    0\n",
       "2011-01-01 00:45:00    0\n",
       "2011-01-01 01:30:00    1\n",
       "2011-01-01 02:15:00    2\n",
       "2011-01-01 03:00:00    3\n",
       "Freq: 45T, dtype: int64"
      ]
     },
     "execution_count": 27,
     "metadata": {},
     "output_type": "execute_result"
    }
   ],
   "source": [
    "converted.head()"
   ]
  },
  {
   "cell_type": "markdown",
   "metadata": {},
   "source": [
    "### What does the above code do to the size and content of your data frame?"
   ]
  },
  {
   "cell_type": "code",
   "execution_count": 28,
   "metadata": {},
   "outputs": [
    {
     "data": {
      "text/plain": [
       "2011-01-01 00:45:00    0\n",
       "2011-01-01 01:30:00    1\n",
       "2011-01-01 02:15:00    2\n",
       "2011-01-01 03:00:00    3\n",
       "2011-01-01 03:45:00    3\n",
       "2011-01-01 04:30:00    4\n",
       "2011-01-01 05:15:00    5\n",
       "2011-01-01 06:00:00    6\n",
       "2011-01-01 06:45:00    6\n",
       "Freq: 45T, dtype: int64"
      ]
     },
     "execution_count": 28,
     "metadata": {},
     "output_type": "execute_result"
    }
   ],
   "source": [
    "converted[1:10]"
   ]
  },
  {
   "cell_type": "code",
   "execution_count": 29,
   "metadata": {},
   "outputs": [
    {
     "data": {
      "text/plain": [
       "2011-01-01 01:00:00    1\n",
       "2011-01-01 02:00:00    2\n",
       "2011-01-01 03:00:00    3\n",
       "2011-01-01 04:00:00    4\n",
       "2011-01-01 05:00:00    5\n",
       "2011-01-01 06:00:00    6\n",
       "2011-01-01 07:00:00    7\n",
       "2011-01-01 08:00:00    8\n",
       "2011-01-01 09:00:00    9\n",
       "Freq: H, dtype: int64"
      ]
     },
     "execution_count": 29,
     "metadata": {},
     "output_type": "execute_result"
    }
   ],
   "source": [
    "ts[1:10]"
   ]
  },
  {
   "cell_type": "code",
   "execution_count": 30,
   "metadata": {},
   "outputs": [
    {
     "data": {
      "text/plain": [
       "(95,)"
      ]
     },
     "execution_count": 30,
     "metadata": {},
     "output_type": "execute_result"
    }
   ],
   "source": [
    "converted.shape"
   ]
  },
  {
   "cell_type": "code",
   "execution_count": 31,
   "metadata": {},
   "outputs": [
    {
     "data": {
      "text/plain": [
       "(72,)"
      ]
     },
     "execution_count": 31,
     "metadata": {},
     "output_type": "execute_result"
    }
   ],
   "source": [
    "ts.shape"
   ]
  },
  {
   "cell_type": "markdown",
   "metadata": {},
   "source": [
    "### Take a look at the specs for .asfreq(). What are your options for filling in missing data?"
   ]
  },
  {
   "cell_type": "code",
   "execution_count": 32,
   "metadata": {
    "collapsed": true
   },
   "outputs": [],
   "source": [
    "ts.asfreq??"
   ]
  },
  {
   "cell_type": "markdown",
   "metadata": {},
   "source": [
    "### How can you go to less frequent rather than more frequent?"
   ]
  },
  {
   "cell_type": "code",
   "execution_count": 33,
   "metadata": {
    "collapsed": true
   },
   "outputs": [],
   "source": [
    "converted = ts.asfreq('3H')"
   ]
  },
  {
   "cell_type": "code",
   "execution_count": 34,
   "metadata": {},
   "outputs": [
    {
     "data": {
      "text/plain": [
       "2011-01-01 03:00:00     3\n",
       "2011-01-01 06:00:00     6\n",
       "2011-01-01 09:00:00     9\n",
       "2011-01-01 12:00:00    12\n",
       "2011-01-01 15:00:00    15\n",
       "2011-01-01 18:00:00    18\n",
       "2011-01-01 21:00:00    21\n",
       "2011-01-02 00:00:00    24\n",
       "2011-01-02 03:00:00    27\n",
       "Freq: 3H, dtype: int64"
      ]
     },
     "execution_count": 34,
     "metadata": {},
     "output_type": "execute_result"
    }
   ],
   "source": [
    "converted[1:10]"
   ]
  },
  {
   "cell_type": "code",
   "execution_count": 35,
   "metadata": {},
   "outputs": [
    {
     "data": {
      "text/plain": [
       "2011-01-01 01:00:00    1\n",
       "2011-01-01 02:00:00    2\n",
       "2011-01-01 03:00:00    3\n",
       "2011-01-01 04:00:00    4\n",
       "2011-01-01 05:00:00    5\n",
       "2011-01-01 06:00:00    6\n",
       "2011-01-01 07:00:00    7\n",
       "2011-01-01 08:00:00    8\n",
       "2011-01-01 09:00:00    9\n",
       "Freq: H, dtype: int64"
      ]
     },
     "execution_count": 35,
     "metadata": {},
     "output_type": "execute_result"
    }
   ],
   "source": [
    "ts[1:10]"
   ]
  },
  {
   "cell_type": "code",
   "execution_count": 36,
   "metadata": {},
   "outputs": [
    {
     "data": {
      "text/plain": [
       "2011-01-01 02:00:00     0.5\n",
       "2011-01-01 04:00:00     2.5\n",
       "2011-01-01 06:00:00     4.5\n",
       "2011-01-01 08:00:00     6.5\n",
       "2011-01-01 10:00:00     8.5\n",
       "2011-01-01 12:00:00    10.5\n",
       "2011-01-01 14:00:00    12.5\n",
       "2011-01-01 16:00:00    14.5\n",
       "2011-01-01 18:00:00    16.5\n",
       "2011-01-01 20:00:00    18.5\n",
       "Freq: 2H, dtype: float64"
      ]
     },
     "execution_count": 36,
     "metadata": {},
     "output_type": "execute_result"
    }
   ],
   "source": [
    "# Let's try the more flexible .resample()\n",
    "ts.resample('2H', label = 'right').mean()[:10]"
   ]
  },
  {
   "cell_type": "code",
   "execution_count": 37,
   "metadata": {
    "collapsed": true
   },
   "outputs": [],
   "source": [
    "ts.resample??"
   ]
  },
  {
   "cell_type": "code",
   "execution_count": 38,
   "metadata": {
    "collapsed": true
   },
   "outputs": [],
   "source": [
    "# What's particularly useful is that we can use reample to event out irregular time series\n",
    "irreg_ts = ts[list(np.random.choice(a = list(range(len(ts))), size = 10, replace = False))]"
   ]
  },
  {
   "cell_type": "code",
   "execution_count": 39,
   "metadata": {},
   "outputs": [
    {
     "data": {
      "text/plain": [
       "2011-01-02 07:00:00    31\n",
       "2011-01-01 00:00:00     0\n",
       "2011-01-03 00:00:00    48\n",
       "2011-01-01 10:00:00    10\n",
       "2011-01-02 17:00:00    41\n",
       "2011-01-03 03:00:00    51\n",
       "2011-01-03 01:00:00    49\n",
       "2011-01-03 08:00:00    56\n",
       "2011-01-03 10:00:00    58\n",
       "2011-01-02 01:00:00    25\n",
       "dtype: int64"
      ]
     },
     "execution_count": 39,
     "metadata": {},
     "output_type": "execute_result"
    }
   ],
   "source": [
    "irreg_ts"
   ]
  },
  {
   "cell_type": "code",
   "execution_count": 40,
   "metadata": {},
   "outputs": [
    {
     "data": {
      "text/plain": [
       "Series([], Freq: D, dtype: int64)"
      ]
     },
     "execution_count": 40,
     "metadata": {},
     "output_type": "execute_result"
    }
   ],
   "source": [
    "irreg_ts.asfreq('D')"
   ]
  },
  {
   "cell_type": "markdown",
   "metadata": {},
   "source": [
    "### Why didn't that work?"
   ]
  },
  {
   "cell_type": "code",
   "execution_count": 41,
   "metadata": {},
   "outputs": [
    {
     "data": {
      "text/plain": [
       "2011-01-01 00:00:00     0\n",
       "2011-01-01 10:00:00    10\n",
       "2011-01-02 01:00:00    25\n",
       "2011-01-02 07:00:00    31\n",
       "2011-01-02 17:00:00    41\n",
       "2011-01-03 00:00:00    48\n",
       "2011-01-03 01:00:00    49\n",
       "2011-01-03 03:00:00    51\n",
       "2011-01-03 08:00:00    56\n",
       "2011-01-03 10:00:00    58\n",
       "dtype: int64"
      ]
     },
     "execution_count": 41,
     "metadata": {},
     "output_type": "execute_result"
    }
   ],
   "source": [
    "irreg_ts = irreg_ts.sort_index()\n",
    "irreg_ts"
   ]
  },
  {
   "cell_type": "code",
   "execution_count": 42,
   "metadata": {},
   "outputs": [
    {
     "data": {
      "text/plain": [
       "2011-01-01     0\n",
       "2011-01-02    25\n",
       "2011-01-03    48\n",
       "Freq: D, dtype: int64"
      ]
     },
     "execution_count": 42,
     "metadata": {},
     "output_type": "execute_result"
    }
   ],
   "source": [
    "irreg_ts.asfreq('D', method = 'bfill')"
   ]
  },
  {
   "cell_type": "code",
   "execution_count": 43,
   "metadata": {},
   "outputs": [
    {
     "data": {
      "text/plain": [
       "2011-01-01     5.000000\n",
       "2011-01-02    32.333333\n",
       "2011-01-03    52.400000\n",
       "Freq: D, dtype: float64"
      ]
     },
     "execution_count": 43,
     "metadata": {},
     "output_type": "execute_result"
    }
   ],
   "source": [
    "irreg_ts.resample('D').mean()"
   ]
  },
  {
   "cell_type": "markdown",
   "metadata": {},
   "source": [
    "# Try\n",
    "\n",
    "(1) What if you want to go to a higher frequency, but you don't want to back fill or forward fill? Why might you want to do that?\n",
    "\n",
    "(2) What is the difference between .resample() and .asfreq()?\n",
    "\n",
    "(3) How can I forward-fill only a few days? (hint: .fillna())\n",
    "\n",
    "(4) What are some helpful functions to use with a Resampler object?"
   ]
  },
  {
   "cell_type": "code",
   "execution_count": null,
   "metadata": {
    "collapsed": true
   },
   "outputs": [],
   "source": [
    "# %load snippets/resampling_end.py\n",
    "# 1\n",
    "# method = 'None'\n",
    "# do this perhaps to join to other temporal data\n",
    "\n",
    "# 2\n",
    "# asfreq is more rigid\n",
    "\n",
    "# 3\n",
    "converted.asfreq('10Min', method = None).fillna(method = 'ffill', limit =3)\n",
    "\n",
    "# 4\n",
    "# It's basically like a groupby operation\n"
   ]
  },
  {
   "cell_type": "code",
   "execution_count": null,
   "metadata": {
    "collapsed": true
   },
   "outputs": [],
   "source": []
  }
 ],
 "metadata": {
  "kernelspec": {
   "display_name": "Python 2",
   "language": "python",
   "name": "python2"
  },
  "language_info": {
   "codemirror_mode": {
    "name": "ipython",
    "version": 2
   },
   "file_extension": ".py",
   "mimetype": "text/x-python",
   "name": "python",
   "nbconvert_exporter": "python",
   "pygments_lexer": "ipython2",
   "version": "2.7.13"
  },
  "widgets": {
   "state": {},
   "version": "1.1.1"
  }
 },
 "nbformat": 4,
 "nbformat_minor": 1
}
