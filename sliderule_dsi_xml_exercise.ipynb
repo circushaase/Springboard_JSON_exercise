{
 "cells": [
  {
   "cell_type": "code",
   "execution_count": 2,
   "metadata": {
    "collapsed": true
   },
   "outputs": [],
   "source": [
    "from xml.etree import ElementTree as ET\n",
    "import pandas as pd"
   ]
  },
  {
   "cell_type": "markdown",
   "metadata": {},
   "source": [
    "****\n",
    "## XML exercise\n",
    "\n",
    "Using data in 'data/mondial_database.xml', the examples above, and refering to https://docs.python.org/2.7/library/xml.etree.elementtree.html, find\n",
    "\n",
    "1. 10 countries with the lowest infant mortality rates\n",
    "2. 10 cities with the largest population\n",
    "3. 10 ethnic groups with the largest overall populations (sum of best/latest estimates over all countries)\n",
    "4. name and country of a) longest river, b) largest lake and c) airport at highest elevation"
   ]
  },
  {
   "cell_type": "code",
   "execution_count": 6,
   "metadata": {
    "collapsed": false
   },
   "outputs": [],
   "source": [
    "doc = ET.parse( './data/mondial_database.xml' ) #reading in the xml file"
   ]
  },
  {
   "cell_type": "markdown",
   "metadata": {},
   "source": [
    "### Problem 1: 10 countries w/ lowest infant mortality rates"
   ]
  },
  {
   "cell_type": "code",
   "execution_count": 7,
   "metadata": {
    "collapsed": false
   },
   "outputs": [
    {
     "name": "stderr",
     "output_type": "stream",
     "text": [
      "C:\\Users\\Usrer\\Anaconda2\\lib\\site-packages\\ipykernel\\__main__.py:12: FutureWarning: order is deprecated, use sort_values(...)\n"
     ]
    },
    {
     "data": {
      "text/plain": [
       "Monaco            1.81\n",
       "Japan             2.13\n",
       "Norway            2.48\n",
       "Bermuda           2.48\n",
       "Singapore         2.53\n",
       "Sweden            2.60\n",
       "Czech Republic    2.63\n",
       "Hong Kong         2.73\n",
       "Macao             3.13\n",
       "Iceland           3.15\n",
       "dtype: float64"
      ]
     },
     "execution_count": 7,
     "metadata": {},
     "output_type": "execute_result"
    }
   ],
   "source": [
    "im_dict = {} #create an empty dictionary to later pass into a pandas series\n",
    "\n",
    "for element in doc.iterfind('country'): #iterate through the elements to find each country\n",
    "    try: #because some countries infant mortality rates are listed as 'None' which cannot convert to float\n",
    "        im_dict[element.find('name').text] = float(element.findtext('infant_mortality')) #add each country name as a dict key and then find the infant_mortality tag to pass as the dict value\n",
    "    except:\n",
    "        pass #skip any 'None' values that raise error when converting to float\n",
    "    \n",
    "ser = pd.Series(im_dict) #pass the dictionary into a pandas series\n",
    "ser.order().head(10) #sort the series and print only the first 10 rows"
   ]
  },
  {
   "cell_type": "markdown",
   "metadata": {},
   "source": [
    "### Problem 2: 10 cities with the largest population"
   ]
  },
  {
   "cell_type": "code",
   "execution_count": 38,
   "metadata": {
    "collapsed": false
   },
   "outputs": [
    {
     "data": {
      "text/html": [
       "<div>\n",
       "<table border=\"1\" class=\"dataframe\">\n",
       "  <thead>\n",
       "    <tr style=\"text-align: right;\">\n",
       "      <th></th>\n",
       "      <th>City</th>\n",
       "      <th>Country</th>\n",
       "      <th>Population</th>\n",
       "      <th>Year</th>\n",
       "    </tr>\n",
       "  </thead>\n",
       "  <tbody>\n",
       "    <tr>\n",
       "      <th>1251</th>\n",
       "      <td>Shanghai</td>\n",
       "      <td>China</td>\n",
       "      <td>22315474</td>\n",
       "      <td>2010</td>\n",
       "    </tr>\n",
       "    <tr>\n",
       "      <th>707</th>\n",
       "      <td>Istanbul</td>\n",
       "      <td>Turkey</td>\n",
       "      <td>13710512</td>\n",
       "      <td>2012</td>\n",
       "    </tr>\n",
       "    <tr>\n",
       "      <th>1421</th>\n",
       "      <td>Mumbai</td>\n",
       "      <td>India</td>\n",
       "      <td>12442373</td>\n",
       "      <td>2011</td>\n",
       "    </tr>\n",
       "    <tr>\n",
       "      <th>443</th>\n",
       "      <td>Moskva</td>\n",
       "      <td>Russia</td>\n",
       "      <td>11979529</td>\n",
       "      <td>2013</td>\n",
       "    </tr>\n",
       "    <tr>\n",
       "      <th>1250</th>\n",
       "      <td>Beijing</td>\n",
       "      <td>China</td>\n",
       "      <td>11716620</td>\n",
       "      <td>2010</td>\n",
       "    </tr>\n",
       "    <tr>\n",
       "      <th>2594</th>\n",
       "      <td>São Paulo</td>\n",
       "      <td>Brazil</td>\n",
       "      <td>11152344</td>\n",
       "      <td>2010</td>\n",
       "    </tr>\n",
       "    <tr>\n",
       "      <th>1252</th>\n",
       "      <td>Tianjin</td>\n",
       "      <td>China</td>\n",
       "      <td>11090314</td>\n",
       "      <td>2010</td>\n",
       "    </tr>\n",
       "    <tr>\n",
       "      <th>974</th>\n",
       "      <td>Guangzhou</td>\n",
       "      <td>China</td>\n",
       "      <td>11071424</td>\n",
       "      <td>2010</td>\n",
       "    </tr>\n",
       "    <tr>\n",
       "      <th>1467</th>\n",
       "      <td>Delhi</td>\n",
       "      <td>India</td>\n",
       "      <td>11034555</td>\n",
       "      <td>2011</td>\n",
       "    </tr>\n",
       "    <tr>\n",
       "      <th>977</th>\n",
       "      <td>Shenzhen</td>\n",
       "      <td>China</td>\n",
       "      <td>10358381</td>\n",
       "      <td>2010</td>\n",
       "    </tr>\n",
       "  </tbody>\n",
       "</table>\n",
       "</div>"
      ],
      "text/plain": [
       "           City Country  Population  Year\n",
       "1251   Shanghai   China    22315474  2010\n",
       "707    Istanbul  Turkey    13710512  2012\n",
       "1421     Mumbai   India    12442373  2011\n",
       "443      Moskva  Russia    11979529  2013\n",
       "1250    Beijing   China    11716620  2010\n",
       "2594  São Paulo  Brazil    11152344  2010\n",
       "1252    Tianjin   China    11090314  2010\n",
       "974   Guangzhou   China    11071424  2010\n",
       "1467      Delhi   India    11034555  2011\n",
       "977    Shenzhen   China    10358381  2010"
      ]
     },
     "execution_count": 38,
     "metadata": {},
     "output_type": "execute_result"
    }
   ],
   "source": [
    "cities = []\n",
    "countries = []\n",
    "poplist= []\n",
    "years = []\n",
    "\n",
    "for element in root.getiterator('country'): #iterate through the elements to find each country\n",
    "    for subelement in element.iter('city'): #iterate through the subelements of each countries to find the cities\n",
    "        year = 0\n",
    "        pop = None\n",
    "        for pop in subelement.getiterator('population'): #iterate though the children of cities to find population tags\n",
    "            if int(pop.get('year')) > year: #if a year .attrib of a population is found to be greater than the currently stored value...\n",
    "                year = int(pop.get('year')) #then set the greater year as the stored year      \n",
    "                pop= int(pop.text)\n",
    "        if pop != None:\n",
    "            cities.append(subelement.find('name').text) #then add the text of the city tag to the cities list\n",
    "            countries.append(element.find('name').text) #and add the country name to the countries list\n",
    "            years.append(year) # and add the year attribute to the years list\n",
    "            poplist.append(pop) #add the population value to the poplist\n",
    "            \n",
    "pop_df = pd.DataFrame({\"City\": cities, \"Country\": countries, \"Year\": years, \"Population\": poplist}) #create a pandas dataframe and make each list of values into a column in the df\n",
    "pop_df.sort_values('Population', ascending = 0).head(10) #sort the df by Population values and show the top 10 rows.\n"
   ]
  },
  {
   "cell_type": "markdown",
   "metadata": {
    "collapsed": true
   },
   "source": [
    "### Problem 3. 10 ethnic groups with the largest overall populations (sum of best/latest estimates over all countries)"
   ]
  },
  {
   "cell_type": "code",
   "execution_count": 31,
   "metadata": {
    "collapsed": false
   },
   "outputs": [
    {
     "data": {
      "text/plain": [
       "Ethnicity\n",
       "Han Chinese    1.245059e+09\n",
       "Indo-Aryan     8.718156e+08\n",
       "European       4.948722e+08\n",
       "African        3.183251e+08\n",
       "Dravidian      3.027137e+08\n",
       "Mestizo        1.577344e+08\n",
       "Bengali        1.467769e+08\n",
       "Russian        1.304840e+08\n",
       "Japanese       1.265342e+08\n",
       "Malay          1.219936e+08\n",
       "Name: Ethnic total, dtype: float64"
      ]
     },
     "execution_count": 31,
     "metadata": {},
     "output_type": "execute_result"
    }
   ],
   "source": [
    "countries = []\n",
    "ethnicities = []\n",
    "percentages = []\n",
    "populations =[]\n",
    "\n",
    "for country in doc.iterfind('country'): #iterate through the doc to find countries\n",
    "    year = None\n",
    "    pop = None\n",
    "    for popel in country.getiterator('population'): #iterate through children of country to find population tag\n",
    "            if year == None or int(popel.get('year')) > year :\n",
    "                year = int(popel.get('year'))\n",
    "                pop = int(popel.text) \n",
    "    name = None\n",
    "    percent = None\n",
    "    for group in country.getiterator('ethnicgroup'):   #find each ethnicgroup tag\n",
    "        name = group.text\n",
    "        percent = float(group.attrib['percentage']) * .01\n",
    "        if name != None:#if an ethnicgroup tag was found, add the country name, ethnic name, percent, and population to corresponding lists\n",
    "            countries.append(country.find('name').text)\n",
    "            ethnicities.append(name)\n",
    "            percentages.append(percent)\n",
    "            populations.append(pop)\n",
    "\n",
    "#create pandas dataframe with the lists of values\n",
    "df = pd.DataFrame({\"Ethnicity\": ethnicities, \"Percent of Population\" : percentages, \"Country\": countries, \"Population Total\": populations})\n",
    "#multiply the population to all the ethnic percentages and store as group total per country in new column\n",
    "df[\"Ethnic total\"] = df[\"Percent of Population\"] * df[\"Population Total\"]\n",
    "\n",
    "totals = df.groupby([\"Ethnicity\"])[\"Ethnic total\"].sum() #group the ethnic rows together then sum the ethnic totals\n",
    "totals.sort_values(ascending = False).head(10) #sort in descending order and show the first 10 rows"
   ]
  },
  {
   "cell_type": "markdown",
   "metadata": {},
   "source": [
    "### Problem 4. name and country of a) longest river..."
   ]
  },
  {
   "cell_type": "code",
   "execution_count": 37,
   "metadata": {
    "collapsed": false
   },
   "outputs": [
    {
     "name": "stderr",
     "output_type": "stream",
     "text": [
      "C:\\Users\\Usrer\\Anaconda2\\lib\\site-packages\\ipykernel\\__main__.py:23: FutureWarning: sort(columns=....) is deprecated, use sort_values(by=.....)\n"
     ]
    },
    {
     "data": {
      "text/html": [
       "<div>\n",
       "<table border=\"1\" class=\"dataframe\">\n",
       "  <thead>\n",
       "    <tr style=\"text-align: right;\">\n",
       "      <th></th>\n",
       "      <th>Country</th>\n",
       "      <th>Length</th>\n",
       "      <th>Name</th>\n",
       "    </tr>\n",
       "  </thead>\n",
       "  <tbody>\n",
       "    <tr>\n",
       "      <th>174</th>\n",
       "      <td>CO BR PE</td>\n",
       "      <td>6448.0</td>\n",
       "      <td>Amazonas</td>\n",
       "    </tr>\n",
       "  </tbody>\n",
       "</table>\n",
       "</div>"
      ],
      "text/plain": [
       "      Country  Length      Name\n",
       "174  CO BR PE  6448.0  Amazonas"
      ]
     },
     "execution_count": 37,
     "metadata": {},
     "output_type": "execute_result"
    }
   ],
   "source": [
    "rivers = []\n",
    "countries = []\n",
    "lengths= []\n",
    "\n",
    "for riverel in doc.iterfind('river'): #iterate to find river tags/children\n",
    "    country = None\n",
    "    length = None\n",
    "    name = None\n",
    "    try: #because some rivers do not have length tags\n",
    "        length = float(riverel.find('length').text) #find the length tag and set the test value to 'length'\n",
    "        country = riverel.attrib['country'] #set the country attritube to 'country'\n",
    "        name = riverel.find('name').text #set the name tag as 'name'\n",
    "        if length != None: #make sure a length tag was found\n",
    "            rivers.append(name) #add 'name' to the rivers list\n",
    "            countries.append(country) #add 'country' to the countries list\n",
    "            lengths.append(length) #add the length to the lengths list\n",
    "    except: continue\n",
    "            \n",
    "            \n",
    "#create pandas dataframe with the lists of values:\n",
    "df = pd.DataFrame({\"Name\": rivers, \"Country\" : countries, \"Length\": lengths})\n",
    "\n",
    "df.sort(['Length'], ascending = False).head(1) #sort the df by length and show the first row only"
   ]
  },
  {
   "cell_type": "markdown",
   "metadata": {},
   "source": [
    "### 4b) name and country  of largest lake "
   ]
  },
  {
   "cell_type": "code",
   "execution_count": 44,
   "metadata": {
    "collapsed": false
   },
   "outputs": [
    {
     "name": "stderr",
     "output_type": "stream",
     "text": [
      "C:\\Users\\Usrer\\Anaconda2\\lib\\site-packages\\ipykernel\\__main__.py:23: FutureWarning: sort(columns=....) is deprecated, use sort_values(by=.....)\n"
     ]
    },
    {
     "data": {
      "text/html": [
       "<div>\n",
       "<table border=\"1\" class=\"dataframe\">\n",
       "  <thead>\n",
       "    <tr style=\"text-align: right;\">\n",
       "      <th></th>\n",
       "      <th>Area</th>\n",
       "      <th>Country</th>\n",
       "      <th>Name</th>\n",
       "    </tr>\n",
       "  </thead>\n",
       "  <tbody>\n",
       "    <tr>\n",
       "      <th>54</th>\n",
       "      <td>386400.0</td>\n",
       "      <td>R AZ KAZ IR TM</td>\n",
       "      <td>Caspian Sea</td>\n",
       "    </tr>\n",
       "  </tbody>\n",
       "</table>\n",
       "</div>"
      ],
      "text/plain": [
       "        Area         Country         Name\n",
       "54  386400.0  R AZ KAZ IR TM  Caspian Sea"
      ]
     },
     "execution_count": 44,
     "metadata": {},
     "output_type": "execute_result"
    }
   ],
   "source": [
    "lakes = []\n",
    "countries = []\n",
    "areas= []\n",
    "\n",
    "for lakeel in doc.iterfind('lake'): #iterate to find lake tags/children\n",
    "    country = None\n",
    "    size = None\n",
    "    name = None\n",
    "    try: #because some lakes do not have area tags\n",
    "        size = float(lakeel.find('area').text) #find the area tag and set the test value to 'size'\n",
    "        country = lakeel.attrib['country'] #set the country attritube to 'country'\n",
    "        name = lakeel.find('name').text #set the name tag as 'name'\n",
    "        if size != None: #make sure an area tag was found\n",
    "            lakes.append(name) #add 'name' to the lakes list\n",
    "            countries.append(country) #add 'country' to the countries list\n",
    "            areas.append(size) #add the  to the areas list\n",
    "    except: continue\n",
    "            \n",
    "            \n",
    "#create pandas dataframe with the lists of values:\n",
    "df = pd.DataFrame({\"Name\": lakes, \"Country\" : countries, \"Area\": areas})\n",
    "\n",
    "df.sort(['Area'], ascending = False).head(1) #sort the df by length and show the first row only"
   ]
  },
  {
   "cell_type": "markdown",
   "metadata": {},
   "source": [
    "### 4c) airport at highest elevation"
   ]
  },
  {
   "cell_type": "code",
   "execution_count": 45,
   "metadata": {
    "collapsed": false
   },
   "outputs": [
    {
     "name": "stderr",
     "output_type": "stream",
     "text": [
      "C:\\Users\\Usrer\\Anaconda2\\lib\\site-packages\\ipykernel\\__main__.py:23: FutureWarning: sort(columns=....) is deprecated, use sort_values(by=.....)\n"
     ]
    },
    {
     "data": {
      "text/html": [
       "<div>\n",
       "<table border=\"1\" class=\"dataframe\">\n",
       "  <thead>\n",
       "    <tr style=\"text-align: right;\">\n",
       "      <th></th>\n",
       "      <th>Country</th>\n",
       "      <th>Elevation</th>\n",
       "      <th>Name</th>\n",
       "    </tr>\n",
       "  </thead>\n",
       "  <tbody>\n",
       "    <tr>\n",
       "      <th>80</th>\n",
       "      <td>BOL</td>\n",
       "      <td>4063.0</td>\n",
       "      <td>El Alto Intl</td>\n",
       "    </tr>\n",
       "  </tbody>\n",
       "</table>\n",
       "</div>"
      ],
      "text/plain": [
       "   Country  Elevation          Name\n",
       "80     BOL     4063.0  El Alto Intl"
      ]
     },
     "execution_count": 45,
     "metadata": {},
     "output_type": "execute_result"
    }
   ],
   "source": [
    "airports = []\n",
    "countries = []\n",
    "elevations= []\n",
    "\n",
    "for ap in doc.iterfind('airport'): #iterate to find lake tags/children\n",
    "    country = None\n",
    "    elev = None\n",
    "    name = None\n",
    "    try: #because some airports do not have elevation tags\n",
    "        elev = float(ap.find('elevation').text) #find the elevation tag and set the value to 'elev'\n",
    "        country = ap.attrib['country'] #set the country attritube to 'country'\n",
    "        name = ap.find('name').text #set the name tag as 'name'\n",
    "        if elev != None: #make sure an elevation tag was found\n",
    "            airports.append(name) #add 'name' to the lakes list\n",
    "            countries.append(country) #add 'country' to the countries list\n",
    "            elevations.append(elev) #add the  to the areas list\n",
    "    except: continue\n",
    "            \n",
    "            \n",
    "#create pandas dataframe with the lists of values:\n",
    "df = pd.DataFrame({\"Name\": airports, \"Country\" : countries, \"Elevation\": elevations})\n",
    "\n",
    "df.sort(['Elevation'], ascending = False).head(1) #sort the df by elevation and show the first row only"
   ]
  },
  {
   "cell_type": "code",
   "execution_count": null,
   "metadata": {
    "collapsed": true
   },
   "outputs": [],
   "source": []
  }
 ],
 "metadata": {
  "kernelspec": {
   "display_name": "Python 2",
   "language": "python",
   "name": "python2"
  },
  "language_info": {
   "codemirror_mode": {
    "name": "ipython",
    "version": 2
   },
   "file_extension": ".py",
   "mimetype": "text/x-python",
   "name": "python",
   "nbconvert_exporter": "python",
   "pygments_lexer": "ipython2",
   "version": "2.7.13"
  }
 },
 "nbformat": 4,
 "nbformat_minor": 0
}
